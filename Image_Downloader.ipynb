{
  "nbformat": 4,
  "nbformat_minor": 0,
  "metadata": {
    "colab": {
      "name": "Image Downloader",
      "private_outputs": true,
      "provenance": [],
      "collapsed_sections": []
    },
    "kernelspec": {
      "name": "python3",
      "display_name": "Python 3"
    },
    "language_info": {
      "name": "python"
    }
  },
  "cells": [
    {
      "cell_type": "code",
      "source": [
        "# import dependencies\n",
        "import requests\n",
        "import shutil\n",
        "\n",
        "# build a function for reuse\n",
        "def df(image_url,filename):\n",
        "    # send request to get the webpage/element\n",
        "\tr = requests.get(image_url, stream = True) # used stream = True to Control Body Content Workflow\n",
        "    # if request successfull then server send us status code 200\n",
        "    # so if status code 200 then connection implemented and we're ready to progress\n",
        "\tif r.status_code == 200:\n",
        "        # for download picture file we need to decode it, if we don't the file size would be zero!\n",
        "\t    r.raw.decode_content = True\n",
        "        # write binary data to generate the image file\n",
        "\t    with open(filename,'wb') as f:\n",
        "            # https://docs.python.org/3/library/shutil.html#:~:text=shutil.copyfileobj(fsrc%2C%20fdst%5B%2C%20length%5D)\n",
        "\t        shutil.copyfileobj(r.raw, f)\n",
        "\t    print('Image sucessfully Downloaded: ',filename)\n",
        "    # if server send us another code that means we can't progress further\n",
        "\telse:\n",
        "\t    print('Image not retreived') \n",
        "\n",
        "# __main__\n",
        "# loop to urls and filenames that you need to download\n",
        "# you can give manual generated list also to download only specific images\n",
        "# here i given example using range that provide filename from 0 to 2000 => 2001 files total\n",
        "# but some images in between are not available\n",
        "for i in range(0,2000+1):\n",
        "\tURL = f\"https://sololearnuploads.azureedge.net/uploads/courses/{i}.png\"\n",
        "\tfname = f\"/content/drive/MyDrive/outputs/icons/{i}.png\"\n",
        "\tdf(URL,fname)"
      ],
      "metadata": {
        "id": "_Da4isdqgysv"
      },
      "execution_count": null,
      "outputs": []
    },
    {
      "cell_type": "code",
      "execution_count": null,
      "metadata": {
        "id": "Tp1ZrtKyZm9b"
      },
      "outputs": [],
      "source": [
        "# import dependencies\n",
        "import requests\n",
        "import shutil\n",
        "\n",
        "# build a function for reuse\n",
        "def df(image_url,filename):\n",
        "    # send request to get the webpage/element\n",
        "\tr = requests.get(image_url, stream = True) # used stream = True to Control Body Content Workflow\n",
        "    # if request successfull then server send us status code 200\n",
        "    # so if status code 200 then connection implemented and we're ready to progress\n",
        "\tif r.status_code == 200:\n",
        "        # for download picture file we need to decode it, if we don't the file size would be zero!\n",
        "\t    r.raw.decode_content = True\n",
        "        # write binary data to generate the image file\n",
        "\t    with open(filename,'wb') as f:\n",
        "            # https://docs.python.org/3/library/shutil.html#:~:text=shutil.copyfileobj(fsrc%2C%20fdst%5B%2C%20length%5D)\n",
        "\t        shutil.copyfileobj(r.raw, f)\n",
        "\t    print('Image sucessfully Downloaded: ',filename)\n",
        "    # if server send us another code that means we can't progress further\n",
        "\telse:\n",
        "\t    print('Image not retreived')\n",
        "\n",
        "# __main__\n",
        "# loop to urls and filenames that you need to download\n",
        "# you can give manual generated list also to download only specific images\n",
        "# here i given example using range that provide filename from 0 to 10000 => 10001 files total\n",
        "# but some images in between are not available\n",
        "for i in range(0,10000+1):\n",
        "\tURL = f\"https://api.sololearn.com/DownloadFile?id={i}\"\n",
        "\tfname = f\"/content/drive/MyDrive/outputs/imp/{i}.png\"\n",
        "\tdf(URL,fname)"
      ]
    },
    {
      "cell_type": "markdown",
      "source": [
        "#Demo\n",
        "201 images downloaded in 54secs !"
      ],
      "metadata": {
        "id": "cJca0La6ur28"
      }
    },
    {
      "cell_type": "code",
      "source": [
        "# import dependencies\n",
        "import requests\n",
        "import shutil\n",
        "\n",
        "# build a function for reuse\n",
        "def df(image_url,filename):\n",
        "    # send request to get the webpage/element\n",
        "\tr = requests.get(image_url, stream = True) # used stream = True to Control Body Content Workflow\n",
        "    # if request successfull then server send us status code 200\n",
        "    # so if status code 200 then connection implemented and we're ready to progress\n",
        "\tif r.status_code == 200:\n",
        "        # for download picture file we need to decode it, if we don't the file size would be zero!\n",
        "\t    r.raw.decode_content = True\n",
        "        # write binary data to generate the image file\n",
        "\t    with open(filename,'wb') as f:\n",
        "            # https://docs.python.org/3/library/shutil.html#:~:text=shutil.copyfileobj(fsrc%2C%20fdst%5B%2C%20length%5D)\n",
        "\t        shutil.copyfileobj(r.raw, f)\n",
        "\t    print('Image sucessfully Downloaded: ',filename)\n",
        "    # if server send us another code that means we can't progress further\n",
        "\telse:\n",
        "\t    print('Image not retreived')\n",
        "\n",
        "# __main__\n",
        "# loop to urls and filenames that you need to download\n",
        "# you can give manual generated list also to download only specific images\n",
        "# here i given example using range that provide filename from 1000 to 1200 => 201 files total\n",
        "# but some images in between are not available\n",
        "for i in range(1000,1200+1):\n",
        "\tURL = f\"https://sololearnuploads.azureedge.net/uploads/courses/{i}.png\"\n",
        "\tfname = f\"/content/drive/MyDrive/outputs/iconsdemo/{i}.png\"\n",
        "\tdf(URL,fname)"
      ],
      "metadata": {
        "id": "L8dRU6cQtl5P"
      },
      "execution_count": null,
      "outputs": []
    },
    {
      "cell_type": "markdown",
      "source": [
        "# ThankYou\n"
      ],
      "metadata": {
        "id": "Gy6SbdkFx8C1"
      }
    }
  ]
}